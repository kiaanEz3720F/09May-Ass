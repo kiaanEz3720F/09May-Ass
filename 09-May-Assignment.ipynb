{
 "cells": [
  {
   "cell_type": "markdown",
   "id": "84d23813",
   "metadata": {},
   "source": [
    "# Q1. Create one variable containing following type of data:"
   ]
  },
  {
   "cell_type": "code",
   "execution_count": 1,
   "id": "7704f7e6",
   "metadata": {},
   "outputs": [],
   "source": [
    "#(i) String\n",
    "str1 = 'Python'"
   ]
  },
  {
   "cell_type": "code",
   "execution_count": 2,
   "id": "9c4c63b3",
   "metadata": {},
   "outputs": [],
   "source": [
    "#(ii) List\n",
    "lst = [1, 2, 3, 4, 5, 'a', 'b', 'c']"
   ]
  },
  {
   "cell_type": "code",
   "execution_count": 3,
   "id": "015d0f19",
   "metadata": {},
   "outputs": [],
   "source": [
    "#(iii) Float\n",
    "flt = 3.4"
   ]
  },
  {
   "cell_type": "code",
   "execution_count": 4,
   "id": "5898d5b3",
   "metadata": {},
   "outputs": [],
   "source": [
    "#(iv) Tuple\n",
    "tpl = (1, 2, 3, 4, 5, 'a', 'b', 'c')"
   ]
  },
  {
   "cell_type": "markdown",
   "id": "fbd9c464",
   "metadata": {},
   "source": [
    "# Q2. Given are some following variables containing data:\n",
    "## What will be the data type of the above given variable."
   ]
  },
  {
   "cell_type": "code",
   "execution_count": 5,
   "id": "efe46e98",
   "metadata": {},
   "outputs": [
    {
     "data": {
      "text/plain": [
       "str"
      ]
     },
     "execution_count": 5,
     "metadata": {},
     "output_type": "execute_result"
    }
   ],
   "source": [
    "#(i) \n",
    "var1 = ''\n",
    "type(var1)\n",
    "# Ans - string"
   ]
  },
  {
   "cell_type": "code",
   "execution_count": 8,
   "id": "491c0f7a",
   "metadata": {},
   "outputs": [
    {
     "data": {
      "text/plain": [
       "str"
      ]
     },
     "execution_count": 8,
     "metadata": {},
     "output_type": "execute_result"
    }
   ],
   "source": [
    "#(ii) \n",
    "var2 = '[ DS , ML , Python]'\n",
    "type(var2)\n",
    "# Ans - string"
   ]
  },
  {
   "cell_type": "code",
   "execution_count": 9,
   "id": "7b615e73",
   "metadata": {},
   "outputs": [
    {
     "data": {
      "text/plain": [
       "list"
      ]
     },
     "execution_count": 9,
     "metadata": {},
     "output_type": "execute_result"
    }
   ],
   "source": [
    "#(iii) \n",
    "var3 = [ 'DS' , 'ML' , 'Python' ]\n",
    "type(var3)\n",
    "# Ans - list"
   ]
  },
  {
   "cell_type": "code",
   "execution_count": 10,
   "id": "095e6bce",
   "metadata": {},
   "outputs": [
    {
     "data": {
      "text/plain": [
       "int"
      ]
     },
     "execution_count": 10,
     "metadata": {},
     "output_type": "execute_result"
    }
   ],
   "source": [
    "#(iv) \n",
    "var4 = 1\n",
    "type(var4)\n",
    "# Ans - integer"
   ]
  },
  {
   "cell_type": "markdown",
   "id": "97e73df9",
   "metadata": {},
   "source": [
    "# Q3. Explain the use of the following operators using an example:"
   ]
  },
  {
   "cell_type": "code",
   "execution_count": 12,
   "id": "35bb62bf",
   "metadata": {},
   "outputs": [
    {
     "data": {
      "text/plain": [
       "2.0"
      ]
     },
     "execution_count": 12,
     "metadata": {},
     "output_type": "execute_result"
    }
   ],
   "source": [
    "#(i) /\n",
    "4/2"
   ]
  },
  {
   "cell_type": "markdown",
   "id": "9a91e782",
   "metadata": {},
   "source": [
    "## This is because the '/' operator is used for division of two numbers. We all know that 4 divided by 2 = 2. Hence the answer."
   ]
  },
  {
   "cell_type": "code",
   "execution_count": 13,
   "id": "f0e1101e",
   "metadata": {},
   "outputs": [
    {
     "data": {
      "text/plain": [
       "2"
      ]
     },
     "execution_count": 13,
     "metadata": {},
     "output_type": "execute_result"
    }
   ],
   "source": [
    "#(ii) %\n",
    "5%3"
   ]
  },
  {
   "cell_type": "markdown",
   "id": "60b006bb",
   "metadata": {},
   "source": [
    "## This is because the '%' operator is the modulus operator which outputs the remainder when divided by a number. We all know that 5 divided by 3 gives a remainder of 2. Hence the answer."
   ]
  },
  {
   "cell_type": "code",
   "execution_count": 17,
   "id": "fcf7bdcb",
   "metadata": {},
   "outputs": [
    {
     "data": {
      "text/plain": [
       "1"
      ]
     },
     "execution_count": 17,
     "metadata": {},
     "output_type": "execute_result"
    }
   ],
   "source": [
    "#(iii) //\n",
    "5//3"
   ]
  },
  {
   "cell_type": "markdown",
   "id": "0fd3d8d3",
   "metadata": {},
   "source": [
    "## This is because the '//' operator is the floor division operator which outputs the floor value of the answer when divided by a number. We all know that 5 divided by 3 is 1.66667. Hence the answer."
   ]
  },
  {
   "cell_type": "code",
   "execution_count": 18,
   "id": "7c6a5561",
   "metadata": {},
   "outputs": [
    {
     "data": {
      "text/plain": [
       "8"
      ]
     },
     "execution_count": 18,
     "metadata": {},
     "output_type": "execute_result"
    }
   ],
   "source": [
    "#(iv) **\n",
    "2**3"
   ]
  },
  {
   "cell_type": "markdown",
   "id": "d3e320dd",
   "metadata": {},
   "source": [
    "## This is because the '**' operator is the exponent operator which outputs the first number raised to the second number. We all know that 2 raised to 3 = 8. Hence the answer."
   ]
  },
  {
   "cell_type": "markdown",
   "id": "56d9ca7c",
   "metadata": {},
   "source": [
    "# Q4. Create a list of length 10 of your choice containing multiple types of data. Using for loop print the element and its data type."
   ]
  },
  {
   "cell_type": "code",
   "execution_count": 19,
   "id": "2ecf3ddf",
   "metadata": {},
   "outputs": [
    {
     "name": "stdout",
     "output_type": "stream",
     "text": [
      "1\n",
      "<class 'int'>\n",
      "2\n",
      "<class 'int'>\n",
      "3\n",
      "<class 'int'>\n",
      "a\n",
      "<class 'str'>\n",
      "b\n",
      "<class 'str'>\n",
      "c\n",
      "<class 'str'>\n",
      "2.3\n",
      "<class 'float'>\n",
      "3.4\n",
      "<class 'float'>\n",
      "True\n",
      "<class 'bool'>\n",
      "False\n",
      "<class 'bool'>\n"
     ]
    }
   ],
   "source": [
    "lst1 = [1, 2, 3, 'a', 'b', 'c', 2.3, 3.4, True, False]\n",
    "\n",
    "for x in lst1:\n",
    "    print(x)\n",
    "    print(type(x))"
   ]
  },
  {
   "cell_type": "markdown",
   "id": "05c18ac8",
   "metadata": {},
   "source": [
    "# Q5. Using a while loop, verify if the number A is purely divisible by number B and if so then how many times it can be divisible."
   ]
  },
  {
   "cell_type": "code",
   "execution_count": 22,
   "id": "bbaad5d9",
   "metadata": {},
   "outputs": [
    {
     "name": "stdout",
     "output_type": "stream",
     "text": [
      "Enter number A: 1024\n",
      "Enter number B: 2\n",
      "It can be divided  10 times.\n"
     ]
    }
   ],
   "source": [
    "A = int(input(\"Enter number A: \"))\n",
    "B = int(input(\"Enter number B: \"))\n",
    "count = 0\n",
    "while A % B == 0:\n",
    "    A /= B\n",
    "    count += 1\n",
    "else:\n",
    "    print(\"It can be divided \", count, \"times.\")"
   ]
  },
  {
   "cell_type": "markdown",
   "id": "56679d73",
   "metadata": {},
   "source": [
    "# Q6. Create a list containing 25 int type data. Using for loop and if-else condition print if the element is divisible by 3 or not."
   ]
  },
  {
   "cell_type": "code",
   "execution_count": 24,
   "id": "e21af8aa",
   "metadata": {},
   "outputs": [
    {
     "name": "stdout",
     "output_type": "stream",
     "text": [
      "1  is not divisible by 3.\n",
      "\n",
      "2  is not divisible by 3.\n",
      "\n",
      "3  is divisible by 3.\n",
      "\n",
      "4  is not divisible by 3.\n",
      "\n",
      "5  is not divisible by 3.\n",
      "\n",
      "6  is divisible by 3.\n",
      "\n",
      "7  is not divisible by 3.\n",
      "\n",
      "8  is not divisible by 3.\n",
      "\n",
      "9  is divisible by 3.\n",
      "\n",
      "10  is not divisible by 3.\n",
      "\n",
      "11  is not divisible by 3.\n",
      "\n",
      "12  is divisible by 3.\n",
      "\n",
      "13  is not divisible by 3.\n",
      "\n",
      "14  is not divisible by 3.\n",
      "\n",
      "15  is divisible by 3.\n",
      "\n",
      "16  is not divisible by 3.\n",
      "\n",
      "17  is not divisible by 3.\n",
      "\n",
      "18  is divisible by 3.\n",
      "\n",
      "19  is not divisible by 3.\n",
      "\n",
      "20  is not divisible by 3.\n",
      "\n",
      "21  is divisible by 3.\n",
      "\n",
      "22  is not divisible by 3.\n",
      "\n",
      "23  is not divisible by 3.\n",
      "\n",
      "24  is divisible by 3.\n",
      "\n",
      "25  is not divisible by 3.\n",
      "\n"
     ]
    }
   ],
   "source": [
    "lst2 = [1, 2, 3, 4, 5, 6, 7, 8, 9, 10, 11, 12, 13, 14, 15, 16, 17, 18, 19, 20, 21, 22, 23, 24, 25]\n",
    "for x in lst2:\n",
    "    if x % 3 == 0:\n",
    "        print(x, \" is divisible by 3.\\n\")\n",
    "    else:\n",
    "        print(x, \" is not divisible by 3.\\n\")"
   ]
  },
  {
   "cell_type": "markdown",
   "id": "90d2f028",
   "metadata": {},
   "source": [
    "# Q7. What do you understand about mutable and immutable data types? Give examples for both showing this property."
   ]
  },
  {
   "cell_type": "markdown",
   "id": "ddec2f8f",
   "metadata": {},
   "source": [
    "## Mutable data types are those data types in which the data contained can be changed. For example --> Lists.\n",
    "## Immutable data types are those data types in which the data contained cannot be changed. For example --> Tuples."
   ]
  },
  {
   "cell_type": "code",
   "execution_count": 26,
   "id": "1ab39ee4",
   "metadata": {},
   "outputs": [
    {
     "name": "stdout",
     "output_type": "stream",
     "text": [
      "[1, 2, 6, 4, 5]\n"
     ]
    }
   ],
   "source": [
    "# Mutable Data type -- List\n",
    "lst3 = [1, 2, 3, 4, 5]\n",
    "\n",
    "lst3[2] = 6\n",
    "\n",
    "print(lst3)\n",
    "\n",
    "# This will not throw an error."
   ]
  },
  {
   "cell_type": "code",
   "execution_count": 27,
   "id": "a82b8036",
   "metadata": {},
   "outputs": [
    {
     "ename": "TypeError",
     "evalue": "'tuple' object does not support item assignment",
     "output_type": "error",
     "traceback": [
      "\u001b[1;31m---------------------------------------------------------------------------\u001b[0m",
      "\u001b[1;31mTypeError\u001b[0m                                 Traceback (most recent call last)",
      "\u001b[1;32m~\\AppData\\Local\\Temp/ipykernel_28056/3309574786.py\u001b[0m in \u001b[0;36m<module>\u001b[1;34m\u001b[0m\n\u001b[0;32m      2\u001b[0m \u001b[0mtpl1\u001b[0m \u001b[1;33m=\u001b[0m \u001b[1;33m(\u001b[0m\u001b[1;36m1\u001b[0m\u001b[1;33m,\u001b[0m \u001b[1;36m2\u001b[0m\u001b[1;33m,\u001b[0m \u001b[1;36m3\u001b[0m\u001b[1;33m,\u001b[0m \u001b[1;36m4\u001b[0m\u001b[1;33m,\u001b[0m \u001b[1;36m5\u001b[0m\u001b[1;33m)\u001b[0m\u001b[1;33m\u001b[0m\u001b[1;33m\u001b[0m\u001b[0m\n\u001b[0;32m      3\u001b[0m \u001b[1;33m\u001b[0m\u001b[0m\n\u001b[1;32m----> 4\u001b[1;33m \u001b[0mtpl1\u001b[0m\u001b[1;33m[\u001b[0m\u001b[1;36m2\u001b[0m\u001b[1;33m]\u001b[0m \u001b[1;33m=\u001b[0m \u001b[1;36m6\u001b[0m\u001b[1;33m\u001b[0m\u001b[1;33m\u001b[0m\u001b[0m\n\u001b[0m\u001b[0;32m      5\u001b[0m \u001b[1;33m\u001b[0m\u001b[0m\n\u001b[0;32m      6\u001b[0m \u001b[0mprint\u001b[0m\u001b[1;33m(\u001b[0m\u001b[0mtpl1\u001b[0m\u001b[1;33m)\u001b[0m\u001b[1;33m\u001b[0m\u001b[1;33m\u001b[0m\u001b[0m\n",
      "\u001b[1;31mTypeError\u001b[0m: 'tuple' object does not support item assignment"
     ]
    }
   ],
   "source": [
    "# Immutable Data type -- Tuple\n",
    "tpl1 = (1, 2, 3, 4, 5)\n",
    "\n",
    "tpl1[2] = 6\n",
    "\n",
    "print(tpl1)\n",
    "\n",
    "# This will throw an error."
   ]
  },
  {
   "cell_type": "code",
   "execution_count": null,
   "id": "4aa18873",
   "metadata": {},
   "outputs": [],
   "source": []
  }
 ],
 "metadata": {
  "kernelspec": {
   "display_name": "Python 3 (ipykernel)",
   "language": "python",
   "name": "python3"
  },
  "language_info": {
   "codemirror_mode": {
    "name": "ipython",
    "version": 3
   },
   "file_extension": ".py",
   "mimetype": "text/x-python",
   "name": "python",
   "nbconvert_exporter": "python",
   "pygments_lexer": "ipython3",
   "version": "3.9.7"
  }
 },
 "nbformat": 4,
 "nbformat_minor": 5
}
